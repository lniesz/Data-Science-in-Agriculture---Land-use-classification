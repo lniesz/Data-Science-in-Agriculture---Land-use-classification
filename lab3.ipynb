{
 "cells": [
  {
   "cell_type": "markdown",
   "metadata": {
    "id": "K3Qqwlg7alxH"
   },
   "source": [
    "<p style=\"text-align:center\">\n",
    "    <a href=\"https://skills.network/?utm_medium=Exinfluencer&utm_source=Exinfluencer&utm_content=000026UJ&utm_term=10006555&utm_id=NA-SkillsNetwork-Channel-SkillsNetworkQuickLabsdatascienceinagriculturelanduseclassification28296414-2022-01-01\" target=\"_blank\">\n",
    "    <img src=\"https://cf-courses-data.s3.us.cloud-object-storage.appdomain.cloud/assets/logos/SN_web_lightmode.png\" width=\"200\" alt=\"Skills Network Logo\"  />\n",
    "    </a>\n",
    "</p>\n"
   ]
  },
  {
   "cell_type": "markdown",
   "metadata": {
    "id": "DXhLvqsMalxN"
   },
   "source": [
    "## **Data Science in Agriculture. Land use classification**\n"
   ]
  },
  {
   "cell_type": "markdown",
   "metadata": {
    "id": "nxDCqKt5alxS"
   },
   "source": [
    "Estaimted time needed: **45** minutes\n"
   ]
  },
  {
   "cell_type": "markdown",
   "metadata": {
    "id": "Hb3bCSSbalxU"
   },
   "source": [
    "## Abstract\n"
   ]
  },
  {
   "cell_type": "markdown",
   "metadata": {
    "id": "Unkvp0StalxW"
   },
   "source": [
    "In this laboratory, we will explore how land use types can be classified based on aerial and satellite photographs of the earth's surface. We will learn to build our own photo masks based on ready-made masks and display them on the screen.\n"
   ]
  },
  {
   "cell_type": "markdown",
   "metadata": {
    "id": "PxzLox6ealxY"
   },
   "source": [
    "## Introduction\n"
   ]
  },
  {
   "cell_type": "markdown",
   "metadata": {
    "id": "fvMsb-NOalxb"
   },
   "source": [
    "Determining how land is used is a huge problem today. After all, its improper and illegal use can lead to both economic and natural disasters. One of the ways to assess the use is the analysis of aerial and satellite images of the earth's surface. A big problem is to build a mathematical model that can determine the type of land use based on colors. If you have ready-made photos and masks of land use, you can use the methods of artificial intelligence and big data to build a model-classifier.\n",
    "\n",
    "In this lab, we will learn how to upload photos, transform pixels and colors into a data set. Then we will learn how to build a classifier and predict land use masks based on it.\n"
   ]
  },
  {
   "cell_type": "markdown",
   "metadata": {
    "id": "lXOuiiokalxg"
   },
   "source": [
    "## Materials and methods\n"
   ]
  },
  {
   "cell_type": "markdown",
   "metadata": {
    "id": "WpizU4gxalxl"
   },
   "source": [
    "In this lab, we will learn the basic methods of images transformation classification. The laboratory consists of four stages:\n",
    "\n",
    "*   Download and visualization of images\n",
    "*   DataSet creation\n",
    "*   Classification model creation\n",
    "*   Create your own mask of land use\n"
   ]
  },
  {
   "cell_type": "markdown",
   "metadata": {
    "id": "TvG7RdB0hTZf"
   },
   "source": [
    "The statistical data was obtained from [https://www.kaggle.com/humansintheloop/semantic-segmentation-of-aerial-imagery](https://www.kaggle.com/humansintheloop/semantic-segmentation-of-aerial-imagery?utm_medium=Exinfluencer&utm_source=Exinfluencer&utm_content=000026UJ&utm_term=10006555&utm_id=NA-SkillsNetwork-Channel-SkillsNetworkQuickLabsdatascienceinagriculturelanduseclassification28296414-2022-01-01) under [CC0: Public Domain](https://creativecommons.org/publicdomain/zero/1.0/?utm_medium=Exinfluencer&utm_source=Exinfluencer&utm_content=000026UJ&utm_term=10006555&utm_id=NA-SkillsNetwork-Channel-SkillsNetworkQuickLabsdatascienceinagriculturelanduseclassification28296414-2022-01-01) license.\n"
   ]
  },
  {
   "cell_type": "markdown",
   "metadata": {
    "id": "mGLVkGtYalxt"
   },
   "source": [
    "## Prerequisites\n",
    "\n",
    "*   [Python](https://www.python.org/?utm_medium=Exinfluencer&utm_source=Exinfluencer&utm_content=000026UJ&utm_term=10006555&utm_id=NA-SkillsNetwork-Channel-SkillsNetworkQuickLabsdatascienceinagriculturelanduseclassification28296414-2022-01-01) - basic level\n",
    "*   [numpy](https://numpy.org/?utm_medium=Exinfluencer&utm_source=Exinfluencer&utm_content=000026UJ&utm_term=10006555&utm_id=NA-SkillsNetwork-Channel-SkillsNetworkQuickLabsdatascienceinagriculturelanduseclassification28296414-2022-01-01) - middle level\n",
    "*   [SeaBorn](https://seaborn.pydata.org/?utm_medium=Exinfluencer&utm_source=Exinfluencer&utm_content=000026UJ&utm_term=10006555&utm_id=NA-SkillsNetwork-Channel-SkillsNetworkQuickLabsdatascienceinagriculturelanduseclassification28296414-2022-01-01) - basic level\n",
    "*   [Matplotlib](https://matplotlib.org/?utm_medium=Exinfluencer&utm_source=Exinfluencer&utm_content=000026UJ&utm_term=10006555&utm_id=NA-SkillsNetwork-Channel-SkillsNetworkQuickLabsdatascienceinagriculturelanduseclassification28296414-2022-01-01) - basic level\n",
    "*   [scikit-learn](https://scikit-learn.org/?utm_medium=Exinfluencer&utm_source=Exinfluencer&utm_content=000026UJ&utm_term=10006555&utm_id=NA-SkillsNetwork-Channel-SkillsNetworkQuickLabsdatascienceinagriculturelanduseclassification28296414-2022-01-01) - middle level\n",
    "*   [pandas](https://pandas.pydata.org/?utm_medium=Exinfluencer&utm_source=Exinfluencer&utm_content=000026UJ&utm_term=10006555&utm_id=NA-SkillsNetwork-Channel-SkillsNetworkQuickLabsdatascienceinagriculturelanduseclassification28296414-2022-01-01) - basic level\n"
   ]
  },
  {
   "cell_type": "markdown",
   "metadata": {
    "id": "24rDM0bTalxv"
   },
   "source": [
    "## Objectives\n"
   ]
  },
  {
   "cell_type": "markdown",
   "metadata": {
    "id": "vtHS4GsGalxw"
   },
   "source": [
    "After completing this lab, you will be able to:\n"
   ]
  },
  {
   "cell_type": "markdown",
   "metadata": {
    "id": "XOEjJbZoalxx"
   },
   "source": [
    "*   Download and transform images.\n",
    "*   Create a DataSet of the colors of images.\n",
    "*   Build a classification model.\n",
    "*   Build land use masks based on a classifier.\n"
   ]
  },
  {
   "cell_type": "markdown",
   "metadata": {
    "id": "dEob71Jnalxz"
   },
   "source": [
    "# Download and visualization of images\n"
   ]
  },
  {
   "cell_type": "markdown",
   "metadata": {
    "id": "Qs3tWZX_alx0"
   },
   "source": [
    "## Install the required libraries\n"
   ]
  },
  {
   "cell_type": "markdown",
   "metadata": {
    "id": "fDfLLaNqalx0"
   },
   "source": [
    "We need to install additional libraries and upgrade existing ones in the lab.\n"
   ]
  },
  {
   "cell_type": "code",
   "execution_count": 1,
   "metadata": {},
   "outputs": [],
   "source": [
    "# !pip list"
   ]
  },
  {
   "cell_type": "code",
   "execution_count": 4,
   "metadata": {
    "id": "WZ_6-0ADalx1"
   },
   "outputs": [
    {
     "name": "stdout",
     "output_type": "stream",
     "text": [
      "\n",
      "PackagesNotFoundError: The following packages are not available from current channels:\n",
      "\n",
      "  - 3.4\n",
      "\n",
      "Current channels:\n",
      "\n",
      "  - https://conda.anaconda.org/conda-forge/linux-64\n",
      "  - https://conda.anaconda.org/conda-forge/noarch\n",
      "  - https://repo.anaconda.com/pkgs/main/linux-64\n",
      "  - https://repo.anaconda.com/pkgs/main/noarch\n",
      "  - https://repo.anaconda.com/pkgs/r/linux-64\n",
      "  - https://repo.anaconda.com/pkgs/r/noarch\n",
      "\n",
      "To search for alternate channels that may provide the conda package you're\n",
      "looking for, navigate to\n",
      "\n",
      "    https://anaconda.org\n",
      "\n",
      "and use the search bar at the top of the page.\n",
      "\n",
      "\n",
      "\n",
      "Note: you may need to restart the kernel to use updated packages.\n"
     ]
    }
   ],
   "source": [
    "conda install matplotlib >= 3.4"
   ]
  },
  {
   "cell_type": "code",
   "execution_count": 5,
   "metadata": {
    "id": "0wZhzkBRalx2"
   },
   "outputs": [
    {
     "name": "stdout",
     "output_type": "stream",
     "text": [
      "Warning: 'conda-forge' already in 'channels' list, moving to the top\n",
      "\n",
      "Note: you may need to restart the kernel to use updated packages.\n"
     ]
    }
   ],
   "source": [
    "conda config --add channels conda-forge"
   ]
  },
  {
   "cell_type": "code",
   "execution_count": 6,
   "metadata": {
    "id": "qnaHrJqTalx3"
   },
   "outputs": [
    {
     "name": "stdout",
     "output_type": "stream",
     "text": [
      "Collecting package metadata (current_repodata.json): done\n",
      "Solving environment: done\n",
      "\n",
      "\n",
      "==> WARNING: A newer version of conda exists. <==\n",
      "  current version: 4.12.0\n",
      "  latest version: 4.13.0\n",
      "\n",
      "Please update conda by running\n",
      "\n",
      "    $ conda update -n base -c defaults conda\n",
      "\n",
      "\n",
      "\n",
      "## Package Plan ##\n",
      "\n",
      "  environment location: /home/jupyterlab/conda/envs/python\n",
      "\n",
      "  added / updated specs:\n",
      "    - scikit-learn\n",
      "\n",
      "\n",
      "The following packages will be downloaded:\n",
      "\n",
      "    package                    |            build\n",
      "    ---------------------------|-----------------\n",
      "    ca-certificates-2022.6.15  |       ha878542_0         149 KB  conda-forge\n",
      "    certifi-2022.6.15          |   py37h89c1867_0         155 KB  conda-forge\n",
      "    ------------------------------------------------------------\n",
      "                                           Total:         304 KB\n",
      "\n",
      "The following packages will be UPDATED:\n",
      "\n",
      "  ca-certificates    intel::ca-certificates-2022.3.18-h06a~ --> conda-forge::ca-certificates-2022.6.15-ha878542_0\n",
      "  certifi            intel::certifi-2021.10.8-py37h06a4308~ --> conda-forge::certifi-2022.6.15-py37h89c1867_0\n",
      "  scikit-learn       intel::scikit-learn-0.24.2-py37h84117~ --> conda-forge::scikit-learn-1.0.2-py37hf9e9bfc_0\n",
      "\n",
      "\n",
      "\n",
      "Downloading and Extracting Packages\n",
      "certifi-2022.6.15    | 155 KB    | ##################################### | 100% \n",
      "ca-certificates-2022 | 149 KB    | ##################################### | 100% \n",
      "Preparing transaction: done\n",
      "Verifying transaction: done\n",
      "Executing transaction: done\n",
      "\n",
      "Note: you may need to restart the kernel to use updated packages.\n"
     ]
    }
   ],
   "source": [
    "conda install scikit-learn"
   ]
  },
  {
   "cell_type": "code",
   "execution_count": 7,
   "metadata": {
    "id": "lsFyWHyxalx4"
   },
   "outputs": [
    {
     "name": "stdout",
     "output_type": "stream",
     "text": [
      "Collecting package metadata (current_repodata.json): done\n",
      "Solving environment: done\n",
      "\n",
      "\n",
      "==> WARNING: A newer version of conda exists. <==\n",
      "  current version: 4.12.0\n",
      "  latest version: 4.13.0\n",
      "\n",
      "Please update conda by running\n",
      "\n",
      "    $ conda update -n base -c defaults conda\n",
      "\n",
      "\n",
      "\n",
      "# All requested packages already installed.\n",
      "\n",
      "\n",
      "Note: you may need to restart the kernel to use updated packages.\n"
     ]
    }
   ],
   "source": [
    "conda install -c conda-forge opencv "
   ]
  },
  {
   "cell_type": "code",
   "execution_count": 3,
   "metadata": {
    "id": "nK9D4-Dpalx5"
   },
   "outputs": [
    {
     "name": "stdout",
     "output_type": "stream",
     "text": [
      "Collecting package metadata (current_repodata.json): done\n",
      "Solving environment: done\n",
      "\n",
      "## Package Plan ##\n",
      "\n",
      "  environment location: /Users/H06040/opt/anaconda3\n",
      "\n",
      "  added / updated specs:\n",
      "    - colormap\n",
      "\n",
      "\n",
      "The following packages will be downloaded:\n",
      "\n",
      "    package                    |            build\n",
      "    ---------------------------|-----------------\n",
      "    ca-certificates-2022.6.15  |       h033912b_0         149 KB  conda-forge\n",
      "    certifi-2022.6.15          |   py38h50d1736_0         155 KB  conda-forge\n",
      "    colorlog-6.6.0             |   py38h50d1736_1          17 KB  conda-forge\n",
      "    colormap-1.0.1             |             py_2          17 KB  conda-forge\n",
      "    conda-4.13.0               |   py38h50d1736_1         989 KB  conda-forge\n",
      "    easydev-0.12.0             |     pyh6c4a22f_0          46 KB  conda-forge\n",
      "    openssl-1.1.1q             |       hfe4f2af_0         1.9 MB  conda-forge\n",
      "    ------------------------------------------------------------\n",
      "                                           Total:         3.2 MB\n",
      "\n",
      "The following NEW packages will be INSTALLED:\n",
      "\n",
      "  colorlog           conda-forge/osx-64::colorlog-6.6.0-py38h50d1736_1\n",
      "  colormap           conda-forge/noarch::colormap-1.0.1-py_2\n",
      "  easydev            conda-forge/noarch::easydev-0.12.0-pyh6c4a22f_0\n",
      "\n",
      "The following packages will be UPDATED:\n",
      "\n",
      "  ca-certificates    pkgs/main::ca-certificates-2021.10.26~ --> conda-forge::ca-certificates-2022.6.15-h033912b_0\n",
      "  certifi            pkgs/main::certifi-2021.10.8-py38hecd~ --> conda-forge::certifi-2022.6.15-py38h50d1736_0\n",
      "  conda                               4.11.0-py38h50d1736_0 --> 4.13.0-py38h50d1736_1\n",
      "  openssl              pkgs/main::openssl-1.1.1l-h9ed2024_0 --> conda-forge::openssl-1.1.1q-hfe4f2af_0\n",
      "\n",
      "\n",
      "\n",
      "Downloading and Extracting Packages\n",
      "easydev-0.12.0       | 46 KB     | ##################################### | 100% \n",
      "openssl-1.1.1q       | 1.9 MB    | ##################################### | 100% \n",
      "colormap-1.0.1       | 17 KB     | ##################################### | 100% \n",
      "colorlog-6.6.0       | 17 KB     | ##################################### | 100% \n",
      "conda-4.13.0         | 989 KB    | ##################################### | 100% \n",
      "certifi-2022.6.15    | 155 KB    | ##################################### | 100% \n",
      "ca-certificates-2022 | 149 KB    | ##################################### | 100% \n",
      "Preparing transaction: done\n",
      "Verifying transaction: done\n",
      "Executing transaction: done\n",
      "\n",
      "Note: you may need to restart the kernel to use updated packages.\n"
     ]
    }
   ],
   "source": [
    "conda install -c conda-forge colormap"
   ]
  },
  {
   "cell_type": "code",
   "execution_count": 9,
   "metadata": {
    "id": "5t9DFduZalx7"
   },
   "outputs": [
    {
     "name": "stdout",
     "output_type": "stream",
     "text": [
      "Collecting package metadata (current_repodata.json): done\n",
      "Solving environment: done\n",
      "\n",
      "\n",
      "==> WARNING: A newer version of conda exists. <==\n",
      "  current version: 4.12.0\n",
      "  latest version: 4.13.0\n",
      "\n",
      "Please update conda by running\n",
      "\n",
      "    $ conda update -n base -c defaults conda\n",
      "\n",
      "\n",
      "\n",
      "## Package Plan ##\n",
      "\n",
      "  environment location: /home/jupyterlab/conda/envs/python\n",
      "\n",
      "  added / updated specs:\n",
      "    - scikit-learn\n",
      "\n",
      "\n",
      "The following packages will be SUPERSEDED by a higher-priority channel:\n",
      "\n",
      "  ca-certificates    conda-forge::ca-certificates-2022.6.1~ --> intel::ca-certificates-2022.3.18-h06a4308_0\n",
      "  certifi            conda-forge::certifi-2022.6.15-py37h8~ --> intel::certifi-2021.10.8-py37h06a4308_2\n",
      "  scikit-learn       conda-forge::scikit-learn-1.0.2-py37h~ --> intel::scikit-learn-0.24.2-py37h8411759_4\n",
      "\n",
      "\n",
      "Preparing transaction: done\n",
      "Verifying transaction: done\n",
      "Executing transaction: / \n",
      "    Installed package of scikit-learn can be accelerated using scikit-learn-intelex.\n",
      "    More details are available here: https://intel.github.io/scikit-learn-intelex\n",
      "    For example:\n",
      "        $ conda install scikit-learn-intelex\n",
      "        $ python -m sklearnex my_application.py\n",
      "    \n",
      "\n",
      "done\n",
      "\n",
      "Note: you may need to restart the kernel to use updated packages.\n"
     ]
    }
   ],
   "source": [
    "conda install -c intel scikit-learn"
   ]
  },
  {
   "cell_type": "markdown",
   "metadata": {
    "id": "arx-ME50alx8"
   },
   "source": [
    "## Import the required libraries\n"
   ]
  },
  {
   "cell_type": "markdown",
   "metadata": {
    "id": "P8kqRbgLalx8"
   },
   "source": [
    "We will use libraries os and glob to work with files and folders.\n",
    "We will also use Matplotlib and Seaborn for visualizing our dataset to gain a better understanding of the images we are going to be handling.\n",
    "NumPy will be used for arrays of images. Scikit-Learn - for classical classification models. Pandas - for DataSet creation.\n"
   ]
  },
  {
   "cell_type": "code",
   "execution_count": 1,
   "metadata": {
    "id": "O4BCfKYZalx9"
   },
   "outputs": [],
   "source": [
    "import seaborn as sns\n",
    "from matplotlib import pyplot as plt \n",
    "import numpy as np\n",
    "import pandas as pd\n",
    "import os\n",
    "from glob import glob\n",
    "import json\n",
    "from PIL import Image\n",
    "from colormap import rgb2hex, hex2rgb\n",
    "\n",
    "#Classifier\n",
    "from sklearn.linear_model import LogisticRegression \n",
    "from sklearn.metrics import plot_confusion_matrix"
   ]
  },
  {
   "cell_type": "markdown",
   "metadata": {
    "id": "TYikiORqalx-"
   },
   "source": [
    "## Loading of data\n"
   ]
  },
  {
   "cell_type": "markdown",
   "metadata": {
    "id": "vqibEnt9alx-"
   },
   "source": [
    "For convenience, let's create a function that downloads all and displays the last images of land and masks from a specified directory.\n",
    "All training pictures and their masks have to be placed in differend directories.\n",
    "Separate a csv file that contains the description of land use classes.\n",
    "\n",
    "The function has to work in the following way:\n",
    "\n",
    "1.  Download a csv file **[json.load()](https://docs.python.org/3/library/json.html?utm_medium=Exinfluencer&utm_source=Exinfluencer&utm_content=000026UJ&utm_term=10006555&utm_id=NA-SkillsNetwork-Channel-SkillsNetworkQuickLabsdatascienceinagriculturelanduseclassification28296414-2022-01-01)** and display classes description.\n",
    "2.  Download all images from a specific directory:\n",
    "\n",
    "**[Image.open()](https://pillow.readthedocs.io/en/stable/reference/Image.html?utm_medium=Exinfluencer&utm_source=Exinfluencer&utm_content=000026UJ&utm_term=10006555&utm_id=NA-SkillsNetwork-Channel-SkillsNetworkQuickLabsdatascienceinagriculturelanduseclassification28296414-2022-01-01)**.\n",
    "3\\. Display the last image + mask.\n",
    "4\\. Form and return a DataSet that has to be an array of tuples \\[image, mask].\n",
    "\n",
    "Remark: the downloaded directories contain 72 images and their masks located in different subfolders according to image resolutions. Due to the fact that the dataset for training will represent each point in the form of a separate record - the size of the dataset will be too large to conduct the training on a local computer. Therefore, we will select a separate folder that contains 9 photos and their masks.\n"
   ]
  },
  {
   "cell_type": "code",
   "execution_count": 5,
   "metadata": {},
   "outputs": [],
   "source": [
    "import zipfile\n",
    "import shutil"
   ]
  },
  {
   "cell_type": "code",
   "execution_count": 6,
   "metadata": {},
   "outputs": [],
   "source": [
    "# shutil.rmtree('Semantic segmentation dataset')"
   ]
  },
  {
   "cell_type": "code",
   "execution_count": 7,
   "metadata": {},
   "outputs": [
    {
     "ename": "IndentationError",
     "evalue": "unexpected indent (534358110.py, line 2)",
     "output_type": "error",
     "traceback": [
      "\u001b[0;36m  File \u001b[0;32m\"/var/folders/my/hsyhkz0n7b31h0khrjlhvcx00000gn/T/ipykernel_68287/534358110.py\"\u001b[0;36m, line \u001b[0;32m2\u001b[0m\n\u001b[0;31m    zip_ref.extractall(\".\")\u001b[0m\n\u001b[0m    ^\u001b[0m\n\u001b[0;31mIndentationError\u001b[0m\u001b[0;31m:\u001b[0m unexpected indent\n"
     ]
    }
   ],
   "source": [
    "# with zipfile.ZipFile(\"Semantic segmentation dataset.zip\", 'r') as zip_ref:\n",
    "    zip_ref.extractall(\".\")"
   ]
  },
  {
   "cell_type": "code",
   "execution_count": 3,
   "metadata": {
    "id": "YFX0sKaValyA"
   },
   "outputs": [],
   "source": [
    "def get_data(folder, file):\n",
    "    # download json\n",
    "    f = open(folder + \"/\" + file,)\n",
    "    data = json.load(f)\n",
    "    f.close()\n",
    "    cl = {}\n",
    "    # Create a dictionary with classes\n",
    "    for i, c in enumerate(data['classes']):\n",
    "        cl[i] = dict(c)\n",
    "        \n",
    "    for k, v in cl.items():\n",
    "        print('Class', k)\n",
    "        for k2, v2 in v.items():\n",
    "            print(\"   \", k2, v2)\n",
    "    data = []\n",
    "    \n",
    "    # download images\n",
    "    sd = [item for item in os.listdir(folder) if os.path.isdir(folder + '/' + item)] # a list of subdirectories\n",
    "    print(\"Subdirectories: \", sd)\n",
    "    for f in sd[4:5]: #choose one of the subdirectories to download\n",
    "        print(\"Downloading: \", f)\n",
    "        images = glob(folder + \"/\" + f + \"/images\" + \"/*.jpg\") # create a list of image files\n",
    "        for im in images:\n",
    "            mask_f = im.replace(\"images\", \"masks\").replace(\"jpg\", \"png\") # create a list of mask files\n",
    "            image = Image.open(im) \n",
    "            mask = Image.open(mask_f).convert('RGB')\n",
    "            if len(np.array(mask).shape) > 2:\n",
    "                data.append([image, mask])\n",
    "        fig = plt.figure(figsize = (10,10)) #display the last image + mask\n",
    "        plt.subplot(1,2,1)\n",
    "        plt.imshow(image)\n",
    "        plt.subplot(1,2,2)\n",
    "        plt.imshow(mask)\n",
    "        plt.show()\n",
    "\n",
    "    return (data)"
   ]
  },
  {
   "cell_type": "code",
   "execution_count": 4,
   "metadata": {
    "id": "leb8IGYualyC"
   },
   "outputs": [
    {
     "name": "stdout",
     "output_type": "stream",
     "text": [
      "Class 0\n",
      "    title Water\n",
      "    shape polygon\n",
      "    color #50E3C2\n",
      "    geometry_config {}\n",
      "Class 1\n",
      "    title Land (unpaved area)\n",
      "    shape polygon\n",
      "    color #F5A623\n",
      "    geometry_config {}\n",
      "Class 2\n",
      "    title Road\n",
      "    shape polygon\n",
      "    color #DE597F\n",
      "    geometry_config {}\n",
      "Class 3\n",
      "    title Building\n",
      "    shape polygon\n",
      "    color #D0021B\n",
      "    geometry_config {}\n",
      "Class 4\n",
      "    title Vegetation\n",
      "    shape polygon\n",
      "    color #417505\n",
      "    geometry_config {}\n",
      "Class 5\n",
      "    title Unlabeled\n",
      "    shape polygon\n",
      "    color #9B9B9B\n",
      "    geometry_config {}\n",
      "Subdirectories:  ['Tile 8', 'Tile 1', 'Tile 6', 'Tile 7', 'Tile 5', 'Tile 2', 'Tile 3', 'Tile 4']\n",
      "Downloading:  Tile 5\n"
     ]
    },
    {
     "data": {
      "image/png": "[encoded data removed]",
      "text/plain": [
       "<Figure size 720x720 with 2 Axes>"
      ]
     },
     "metadata": {
      "needs_background": "light"
     },
     "output_type": "display_data"
    }
   ],
   "source": [
    "d = \"Semantic segmentation dataset\"\n",
    "f = \"classes.json\"\n",
    "data = get_data(d, f)"
   ]
  },
  {
   "cell_type": "code",
   "execution_count": 5,
   "metadata": {},
   "outputs": [
    {
     "name": "stdout",
     "output_type": "stream",
     "text": [
      "<class 'list'>\n",
      "9\n"
     ]
    }
   ],
   "source": [
    "print(type(data))\n",
    "print(len(data))"
   ]
  },
  {
   "cell_type": "markdown",
   "metadata": {
    "id": "HqPmVGGgalyD"
   },
   "source": [
    "As you can see, the csv file contains a description of 6 land use classes. Each class has its own color in the mask file.\n",
    "We downloaded all the pictures and their masks from a separate directory and formed a set of data lists consisting of tuples of picture-mask.\n"
   ]
  },
  {
   "cell_type": "markdown",
   "metadata": {
    "id": "t7ORJYTvalyE"
   },
   "source": [
    "# DataSet creation\n"
   ]
  },
  {
   "cell_type": "markdown",
   "metadata": {
    "id": "OyY1CcCcalyF"
   },
   "source": [
    "Let's see how many images we downloaded:\n"
   ]
  },
  {
   "cell_type": "markdown",
   "metadata": {
    "id": "EgwOIi-_alyH"
   },
   "source": [
    "As you can see, we dowloaded 9 images.\n",
    "Let's use first 4 images and masks for training and last 5 - for tests.\n",
    "\n",
    "Let's make a function that will create a DataSet.\n",
    "\n",
    "Each image is a set of points. Each point is represented by a tuple of RGB (red, green, blue). Every color is a number \\[0-1) for float or \\[0, 255) for int.\n",
    "Therefore, every image is a 3D array (height, width, color). Or a 2D array for gray scale.\n",
    "\n",
    "To establish the dependence of color -> land use class, we need to convert each image into a dataset of the form (r, g, b) -> class.\n",
    "\n",
    "To do this, we need to transform the image into a color matrix **[np.asarray()](https://numpy.org/doc/stable/reference/generated/numpy.asarray.html?utm_medium=Exinfluencer&utm_source=Exinfluencer&utm_content=000026UJ&utm_term=10006555&utm_id=NA-SkillsNetwork-Channel-SkillsNetworkQuickLabsdatascienceinagriculturelanduseclassification28296414-2022-01-01)**, and then transform it into a one-dimensional form **[np.flatten()](https://numpy.org/doc/stable/reference/generated/numpy.ndarray.flatten.html?utm_medium=Exinfluencer&utm_source=Exinfluencer&utm_content=000026UJ&utm_term=10006555&utm_id=NA-SkillsNetwork-Channel-SkillsNetworkQuickLabsdatascienceinagriculturelanduseclassification28296414-2022-01-01)**.\n",
    "To construct the output field, we need to additionally convert the color tuple (r, g, b) from the mask file into hex format: **[rgb2hex()](https://pythonhosted.org/colormap/references.html?utm_medium=Exinfluencer&utm_source=Exinfluencer&utm_content=000026UJ&utm_term=10006555&utm_id=NA-SkillsNetwork-Channel-SkillsNetworkQuickLabsdatascienceinagriculturelanduseclassification28296414-2022-01-01)**.\n"
   ]
  },
  {
   "cell_type": "code",
   "execution_count": 6,
   "metadata": {},
   "outputs": [
    {
     "name": "stdout",
     "output_type": "stream",
     "text": [
      "#131315\n",
      "#111113\n",
      "#161618\n",
      "#161618\n",
      "#0D0D0F\n"
     ]
    }
   ],
   "source": [
    "im = np.asarray(data[0][0])\n",
    "red = im[:,:,0].flatten()\n",
    "green = im[:,:,1].flatten()\n",
    "blue = im[:,:,2].flatten()\n",
    "im_f = np.array([red, green, blue])\n",
    "i = 0\n",
    "for m in zip(red, green, blue):\n",
    "    print(rgb2hex(*m))\n",
    "    i += 1\n",
    "    if i >= 5:\n",
    "        break"
   ]
  },
  {
   "cell_type": "code",
   "execution_count": 7,
   "metadata": {
    "id": "aliVOqTAalyI"
   },
   "outputs": [],
   "source": [
    "def create_DataSet(data):\n",
    "    DS = pd.DataFrame()\n",
    "    for image, mask in data:\n",
    "        # transform image to matrix\n",
    "        im = np.asarray(image) \n",
    "        mk = np.asarray(mask)\n",
    "        # transform a one-dimension array of r, g, b colors\n",
    "        red = im[:,:,0].flatten()\n",
    "        green = im[:,:,1].flatten()\n",
    "        blue = im[:,:,2].flatten()\n",
    "        im_f = np.array([red, green, blue])\n",
    "        red = mk[:,:,0].flatten()\n",
    "        green = mk[:,:,1].flatten()\n",
    "        blue = mk[:,:,2].flatten()\n",
    "        # calculate hex classes\n",
    "        h = np.array([rgb2hex(*m) for m in zip(red, green, blue)])\n",
    "        mk_f = np.array([red, green, blue, h])      \n",
    "        d = np.concatenate((im_f, mk_f), axis=0)\n",
    "        # create a DataSet\n",
    "        DS_new = pd.DataFrame(np.transpose(d), columns = ['Im_Red', 'Im_Green', 'Im_Blue', 'Mk_Red', 'Mk_Green', 'Mk_Blue', 'HEX'])\n",
    "        if len(DS) == 0:\n",
    "            DS = DS_new\n",
    "        else:\n",
    "            DS = DS.append(DS_new)\n",
    "    return DS"
   ]
  },
  {
   "cell_type": "markdown",
   "metadata": {
    "id": "VyA5PGSBalyJ"
   },
   "source": [
    "<details><summary>Click <b>here</b> for the solution</summary> <code>\n",
    "        red = mk[:,:,0].flatten()\n",
    "        green = mk[:,:,1].flatten()\n",
    "        blue = mk[:,:,2].flatten()\n",
    "</code></details>\n"
   ]
  },
  {
   "cell_type": "code",
   "execution_count": 8,
   "metadata": {
    "id": "VI84jmbwalyK"
   },
   "outputs": [
    {
     "name": "stdout",
     "output_type": "stream",
     "text": [
      "Create a training DataSet\n",
      "        Im_Red Im_Green Im_Blue Mk_Red Mk_Green Mk_Blue      HEX\n",
      "0           19       19      21    226      169      41  #E2A929\n",
      "1           17       17      19    226      169      41  #E2A929\n",
      "2           22       22      24    226      169      41  #E2A929\n",
      "3           22       22      24    226      169      41  #E2A929\n",
      "4           13       13      15    226      169      41  #E2A929\n",
      "...        ...      ...     ...    ...      ...     ...      ...\n",
      "1191303      6        6       4    226      169      41  #E2A929\n",
      "1191304      8        8       6    226      169      41  #E2A929\n",
      "1191305     12       12      10    226      169      41  #E2A929\n",
      "1191306      9        9       7    226      169      41  #E2A929\n",
      "1191307      9        9       7    226      169      41  #E2A929\n",
      "\n",
      "[5956540 rows x 7 columns]\n",
      "Create a test DataSet\n",
      "        Im_Red Im_Green Im_Blue Mk_Red Mk_Green Mk_Blue      HEX\n",
      "0          203      187     187    132       41     246  #8429F6\n",
      "1          198      182     182    132       41     246  #8429F6\n",
      "2          204      188     188    132       41     246  #8429F6\n",
      "3          201      185     185    132       41     246  #8429F6\n",
      "4          201      185     185    132       41     246  #8429F6\n",
      "...        ...      ...     ...    ...      ...     ...      ...\n",
      "1191303    226      224     229    132       41     246  #8429F6\n",
      "1191304    234      232     237    132       41     246  #8429F6\n",
      "1191305    225      223     228    132       41     246  #8429F6\n",
      "1191306    221      219     224    132       41     246  #8429F6\n",
      "1191307    236      234     239    132       41     246  #8429F6\n",
      "\n",
      "[4765232 rows x 7 columns]\n"
     ]
    }
   ],
   "source": [
    "print(\"Create a training DataSet\")\n",
    "train = create_DataSet(data[:5])\n",
    "print(train)\n",
    "print(\"Create a test DataSet\")\n",
    "test = create_DataSet(data[5:10])\n",
    "print(test)"
   ]
  },
  {
   "cell_type": "markdown",
   "metadata": {
    "id": "RHzOaIvPalyL"
   },
   "source": [
    "<details><summary>Click <b>here</b> for the solution</summary> <code>\n",
    "print(\"Create test DataSet\")\n",
    "test = create_DataSet(data[4:])\n",
    "print(test)\n",
    "</code></details>\n"
   ]
  },
  {
   "cell_type": "markdown",
   "metadata": {
    "id": "oYNeMdSEalyM"
   },
   "source": [
    "As you can see, our training DataSet consists of 2 050 681 rows and 7 columns. The test one consists of 2 566 340 rows.\n",
    "\n",
    "Let's study the column types of training and test DataSets.\n"
   ]
  },
  {
   "cell_type": "code",
   "execution_count": 9,
   "metadata": {
    "id": "MJTmGM0kalyM"
   },
   "outputs": [
    {
     "name": "stdout",
     "output_type": "stream",
     "text": [
      "<class 'pandas.core.frame.DataFrame'>\n",
      "Int64Index: 5956540 entries, 0 to 1191307\n",
      "Data columns (total 7 columns):\n",
      " #   Column    Dtype \n",
      "---  ------    ----- \n",
      " 0   Im_Red    object\n",
      " 1   Im_Green  object\n",
      " 2   Im_Blue   object\n",
      " 3   Mk_Red    object\n",
      " 4   Mk_Green  object\n",
      " 5   Mk_Blue   object\n",
      " 6   HEX       object\n",
      "dtypes: object(7)\n",
      "memory usage: 363.6+ MB\n"
     ]
    }
   ],
   "source": [
    "train.info()"
   ]
  },
  {
   "cell_type": "code",
   "execution_count": 10,
   "metadata": {
    "id": "XDxhpoa6alyN"
   },
   "outputs": [
    {
     "name": "stdout",
     "output_type": "stream",
     "text": [
      "<class 'pandas.core.frame.DataFrame'>\n",
      "Int64Index: 4765232 entries, 0 to 1191307\n",
      "Data columns (total 7 columns):\n",
      " #   Column    Dtype \n",
      "---  ------    ----- \n",
      " 0   Im_Red    object\n",
      " 1   Im_Green  object\n",
      " 2   Im_Blue   object\n",
      " 3   Mk_Red    object\n",
      " 4   Mk_Green  object\n",
      " 5   Mk_Blue   object\n",
      " 6   HEX       object\n",
      "dtypes: object(7)\n",
      "memory usage: 290.8+ MB\n"
     ]
    }
   ],
   "source": [
    "test.info()"
   ]
  },
  {
   "cell_type": "markdown",
   "metadata": {
    "id": "ZsWPJpBmalyN"
   },
   "source": [
    "As you can see, all the columns have object type.\n",
    "\n",
    "The last column 'HEX' contains colors in hex format. Therefore, it is necessary to change the type of this data to categorical.\n"
   ]
  },
  {
   "cell_type": "code",
   "execution_count": 11,
   "metadata": {
    "id": "zPKKL-9KalyO"
   },
   "outputs": [
    {
     "data": {
      "text/plain": [
       "0          #E2A929\n",
       "1          #E2A929\n",
       "2          #E2A929\n",
       "3          #E2A929\n",
       "4          #E2A929\n",
       "            ...   \n",
       "1191303    #E2A929\n",
       "1191304    #E2A929\n",
       "1191305    #E2A929\n",
       "1191306    #E2A929\n",
       "1191307    #E2A929\n",
       "Name: HEX, Length: 5956540, dtype: category\n",
       "Categories (7, object): ['#000000', '#3C1098', '#6EC1E4', '#8429F6', '#9B9B9B', '#E2A929', '#FEDD3A']"
      ]
     },
     "execution_count": 11,
     "metadata": {},
     "output_type": "execute_result"
    }
   ],
   "source": [
    "train.loc[:, 'HEX'] = train['HEX'].astype('category')\n",
    "train['HEX']"
   ]
  },
  {
   "cell_type": "code",
   "execution_count": 12,
   "metadata": {
    "id": "mO6rih2qalyO"
   },
   "outputs": [
    {
     "data": {
      "text/plain": [
       "0          #8429F6\n",
       "1          #8429F6\n",
       "2          #8429F6\n",
       "3          #8429F6\n",
       "4          #8429F6\n",
       "            ...   \n",
       "1191303    #8429F6\n",
       "1191304    #8429F6\n",
       "1191305    #8429F6\n",
       "1191306    #8429F6\n",
       "1191307    #8429F6\n",
       "Name: HEX, Length: 4765232, dtype: category\n",
       "Categories (6, object): ['#3C1098', '#6EC1E4', '#8429F6', '#9B9B9B', '#E2A929', '#FEDD3A']"
      ]
     },
     "execution_count": 12,
     "metadata": {},
     "output_type": "execute_result"
    }
   ],
   "source": [
    "test.loc[:, 'HEX'] =  test['HEX'].astype('category')\n",
    "test['HEX']"
   ]
  },
  {
   "cell_type": "code",
   "execution_count": 13,
   "metadata": {},
   "outputs": [
    {
     "name": "stdout",
     "output_type": "stream",
     "text": [
      "<class 'pandas.core.frame.DataFrame'>\n",
      "Int64Index: 5956540 entries, 0 to 1191307\n",
      "Data columns (total 7 columns):\n",
      " #   Column    Dtype   \n",
      "---  ------    -----   \n",
      " 0   Im_Red    object  \n",
      " 1   Im_Green  object  \n",
      " 2   Im_Blue   object  \n",
      " 3   Mk_Red    object  \n",
      " 4   Mk_Green  object  \n",
      " 5   Mk_Blue   object  \n",
      " 6   HEX       category\n",
      "dtypes: category(1), object(6)\n",
      "memory usage: 323.8+ MB\n"
     ]
    }
   ],
   "source": [
    "train.info()"
   ]
  },
  {
   "cell_type": "code",
   "execution_count": 14,
   "metadata": {},
   "outputs": [
    {
     "name": "stdout",
     "output_type": "stream",
     "text": [
      "<class 'pandas.core.frame.DataFrame'>\n",
      "Int64Index: 4765232 entries, 0 to 1191307\n",
      "Data columns (total 7 columns):\n",
      " #   Column    Dtype   \n",
      "---  ------    -----   \n",
      " 0   Im_Red    object  \n",
      " 1   Im_Green  object  \n",
      " 2   Im_Blue   object  \n",
      " 3   Mk_Red    object  \n",
      " 4   Mk_Green  object  \n",
      " 5   Mk_Blue   object  \n",
      " 6   HEX       category\n",
      "dtypes: category(1), object(6)\n",
      "memory usage: 259.0+ MB\n"
     ]
    }
   ],
   "source": [
    "test.info()"
   ]
  },
  {
   "cell_type": "markdown",
   "metadata": {
    "id": "UnFZ3nz3alyP"
   },
   "source": [
    "<details><summary>Click <b>here</b> for the solution</summary> <code>\n",
    "test.loc[:, 'HEX'] = test['HEX'].astype('category')\n",
    "test['HEX']\n",
    "</code></details>\n"
   ]
  },
  {
   "cell_type": "markdown",
   "metadata": {
    "id": "yVcTB8XzalyP"
   },
   "source": [
    "All other columns contain colors in int format, therefore we should change their types:\n"
   ]
  },
  {
   "cell_type": "code",
   "execution_count": 15,
   "metadata": {
    "id": "X118UX8NalyQ"
   },
   "outputs": [
    {
     "name": "stdout",
     "output_type": "stream",
     "text": [
      "<class 'pandas.core.frame.DataFrame'>\n",
      "Int64Index: 5956540 entries, 0 to 1191307\n",
      "Data columns (total 7 columns):\n",
      " #   Column    Dtype   \n",
      "---  ------    -----   \n",
      " 0   Im_Red    int64   \n",
      " 1   Im_Green  int64   \n",
      " 2   Im_Blue   int64   \n",
      " 3   Mk_Red    int64   \n",
      " 4   Mk_Green  int64   \n",
      " 5   Mk_Blue   int64   \n",
      " 6   HEX       category\n",
      "dtypes: category(1), int64(6)\n",
      "memory usage: 323.8 MB\n",
      "None\n",
      "<class 'pandas.core.frame.DataFrame'>\n",
      "Int64Index: 4765232 entries, 0 to 1191307\n",
      "Data columns (total 7 columns):\n",
      " #   Column    Dtype   \n",
      "---  ------    -----   \n",
      " 0   Im_Red    int64   \n",
      " 1   Im_Green  int64   \n",
      " 2   Im_Blue   int64   \n",
      " 3   Mk_Red    int64   \n",
      " 4   Mk_Green  int64   \n",
      " 5   Mk_Blue   int64   \n",
      " 6   HEX       category\n",
      "dtypes: category(1), int64(6)\n",
      "memory usage: 259.0 MB\n",
      "None\n"
     ]
    }
   ],
   "source": [
    "cl = ['Im_Red', 'Im_Green', 'Im_Blue', 'Mk_Red', 'Mk_Green', 'Mk_Blue']\n",
    "train[cl] = train[cl].astype('int64')\n",
    "test[cl] = test[cl].astype('int64')\n",
    "print (train.info())\n",
    "print (test.info())"
   ]
  },
  {
   "cell_type": "markdown",
   "metadata": {
    "id": "JWXXXuD0alyR"
   },
   "source": [
    "<details><summary>Click <b>here</b> for the solution</summary> <code>\n",
    "cl = ['Im_Red', 'Im_Green', 'Im_Blue', 'Mk_Red', 'Mk_Green', 'Mk_Blue']\n",
    "train[cl] = train[cl].astype('int64')\n",
    "test[cl] = test[cl].astype('int64')\n",
    "print (train.info())\n",
    "print (test.info())\n",
    "</code></details>\n"
   ]
  },
  {
   "cell_type": "markdown",
   "metadata": {
    "id": "Re3H6hSvalyR"
   },
   "source": [
    "Let’s visualize our data and see what exactly we are working with. We use seaborn to plot the number of pixel classes and you can see what the output looks like.\n"
   ]
  },
  {
   "cell_type": "code",
   "execution_count": 16,
   "metadata": {
    "id": "cAuKspXKalyS"
   },
   "outputs": [
    {
     "data": {
      "text/plain": [
       "<AxesSubplot:xlabel='HEX', ylabel='count'>"
      ]
     },
     "execution_count": 16,
     "metadata": {},
     "output_type": "execute_result"
    },
    {
     "data": {
      "image/png": "[encoded data removed]",
      "text/plain": [
       "<Figure size 432x288 with 1 Axes>"
      ]
     },
     "metadata": {},
     "output_type": "display_data"
    }
   ],
   "source": [
    "c = pd.DataFrame(train['HEX'])\n",
    "sns.set_style('darkgrid')\n",
    "sns.countplot(x=\"HEX\", data=c)"
   ]
  },
  {
   "cell_type": "code",
   "execution_count": 17,
   "metadata": {
    "id": "8LYbU7ZWalyS"
   },
   "outputs": [
    {
     "data": {
      "text/plain": [
       "<AxesSubplot:xlabel='HEX', ylabel='count'>"
      ]
     },
     "execution_count": 17,
     "metadata": {},
     "output_type": "execute_result"
    },
    {
     "data": {
      "image/png": "[encoded data removed]",
      "text/plain": [
       "<Figure size 432x288 with 1 Axes>"
      ]
     },
     "metadata": {},
     "output_type": "display_data"
    }
   ],
   "source": [
    "c = pd.DataFrame(test['HEX'])\n",
    "sns.set_style('darkgrid')\n",
    "sns.countplot(x=\"HEX\", data=c)"
   ]
  },
  {
   "cell_type": "markdown",
   "metadata": {
    "id": "YcSaYFjpalyT"
   },
   "source": [
    "<details><summary>Click <b>here</b> for the solution</summary> <code>\n",
    "c = pd.DataFrame(test['HEX'])\n",
    "sns.set_style('darkgrid')\n",
    "sns.countplot(x=\"HEX\", data=c)\n",
    "</code></details>\n"
   ]
  },
  {
   "cell_type": "markdown",
   "metadata": {
    "id": "BKlEHsnEalyT"
   },
   "source": [
    "As you can see, the DataSet consist of 6 land use classes.\n"
   ]
  },
  {
   "cell_type": "markdown",
   "metadata": {
    "id": "jb85pW1malyU"
   },
   "source": [
    "The training and test DataSets contain similar distribution of images classes.\n"
   ]
  },
  {
   "cell_type": "markdown",
   "metadata": {
    "id": "iSiJpXT_alyU"
   },
   "source": [
    "# Classification model creation\n"
   ]
  },
  {
   "cell_type": "markdown",
   "metadata": {
    "id": "YLP6gWDJalyU"
   },
   "source": [
    "We will use **[sklearn.linear_model.LogisticRegression()](https://scikit-learn.org/stable/modules/generated/sklearn.linear_model.LogisticRegression.html?utm_medium=Exinfluencer&utm_source=Exinfluencer&utm_content=000026UJ&utm_term=10006555&utm_id=NA-SkillsNetwork-Channel-SkillsNetworkQuickLabsdatascienceinagriculturelanduseclassification28296414-2022-01-01)** classifier for mask analysis. It is a very fast and simple classifier. In the next lab we will compare different classifiers.\n",
    "\n",
    "We will use first 3 columns (RGB of image pixel) as imput parameters, and the last column (HEX color of mask picture) as an output.\n",
    "\n",
    "The **[fit()](https://scikit-learn.org/stable/modules/generated/sklearn.linear_model.LogisticRegression.html?utm_medium=Exinfluencer&utm_source=Exinfluencer&utm_content=000026UJ&utm_term=10006555&utm_id=NA-SkillsNetwork-Channel-SkillsNetworkQuickLabsdatascienceinagriculturelanduseclassification28296414-2022-01-01&highlight=logisticregression#sklearn.linear_model.LogisticRegression.fit)** and **[score()](https://scikit-learn.org/stable/modules/generated/sklearn.linear_model.LogisticRegression.html?utm_medium=Exinfluencer&utm_source=Exinfluencer&utm_content=000026UJ&utm_term=10006555&utm_id=NA-SkillsNetwork-Channel-SkillsNetworkQuickLabsdatascienceinagriculturelanduseclassification28296414-2022-01-01&highlight=logisticregression#sklearn.linear_model.LogisticRegression.fit)** functions are used for training and evaluating the accuracy.\n"
   ]
  },
  {
   "cell_type": "markdown",
   "metadata": {
    "id": "OPRtuJcdalyV"
   },
   "source": [
    "We will use function **[plot_confusion_matrix()](https://scikit-learn.org/stable/modules/generated/sklearn.metrics.plot_confusion_matrix.html?utm_medium=Exinfluencer&utm_source=Exinfluencer&utm_content=000026UJ&utm_term=10006555&utm_id=NA-SkillsNetwork-Channel-SkillsNetworkQuickLabsdatascienceinagriculturelanduseclassification28296414-2022-01-01)** for analysis.\n"
   ]
  },
  {
   "cell_type": "code",
   "execution_count": null,
   "metadata": {
    "id": "TOpl7bW4alyV"
   },
   "outputs": [],
   "source": [
    "clf = LogisticRegression(max_iter=10000, n_jobs=-1, multi_class='ovr', solver='sag')\n",
    "c = train.columns\n",
    "clf.fit(train[c[:3]],train[c[-1:]].values.ravel())"
   ]
  },
  {
   "cell_type": "markdown",
   "metadata": {
    "id": "kLzXNrI6alyW"
   },
   "source": [
    "<details><summary>Click <b>here</b> for the solution</summary> <code>\n",
    "clf = LogisticRegression(max_iter=100, n_jobs=-1)\n",
    "c = train.columns\n",
    "clf.fit(train[c[0:3]], train[c[-1:]].values.ravel())\n",
    "</code></details>\n"
   ]
  },
  {
   "cell_type": "code",
   "execution_count": null,
   "metadata": {
    "id": "BN1JM0BFalyW"
   },
   "outputs": [],
   "source": [
    "scores_train = clf.score(train[c[0:3]], train[c[-1:]].values.ravel())\n",
    "scores_test = clf.score(test[c[0:3]], test[c[-1:]].values.ravel())\n",
    "print('Accuracy train DataSet: {: .1%}'.format(scores_train), 'Accuracy test DataSet: {: .1%}'.format(scores_test))\n",
    "plot_confusion_matrix(clf, test[c[0:3]], test[c[-1:]].values.ravel())  \n",
    "plt.show()"
   ]
  },
  {
   "cell_type": "markdown",
   "metadata": {
    "id": "AUZ8XOjSalyX"
   },
   "source": [
    "As you can see, the accuracy is not bad. The difference between the training and test sets is little. It means that the model is not bad, and for increasing the accuracy we should increase our DataSet. You can test it yourself by adding all the directories with images.\n"
   ]
  },
  {
   "cell_type": "markdown",
   "metadata": {
    "id": "_CTUTpEualyY"
   },
   "source": [
    "# Create your own mask of land use\n"
   ]
  },
  {
   "cell_type": "markdown",
   "metadata": {
    "id": "Bkkv2vcPalyY"
   },
   "source": [
    "Let's build your own mask based on our classifier model.\n",
    "\n",
    "First of all, you need to choose a few images from the downloaded data list and build your DataSet.\n"
   ]
  },
  {
   "cell_type": "code",
   "execution_count": null,
   "metadata": {
    "id": "FEjl8-pYalyZ"
   },
   "outputs": [],
   "source": [
    "test_image = 8 # choose the number of images from the data list\n",
    "mask_test = data[test_image:test_image+1] # Test Image + Mask\n",
    "mask_test_DataSet = create_DataSet(mask_test) #Build a DataSet\n",
    "print(mask_test_DataSet)"
   ]
  },
  {
   "cell_type": "markdown",
   "metadata": {
    "id": "DZut4_A7alyZ"
   },
   "source": [
    "Then, calculate the hex colour of classes using our model:\n"
   ]
  },
  {
   "cell_type": "code",
   "execution_count": null,
   "metadata": {
    "id": "lzTVhkmAalya"
   },
   "outputs": [],
   "source": [
    "c = mask_test_DataSet.columns\n",
    "mask_test_predict = clf.predict(mask_test_DataSet[c[0:3]])\n",
    "print(mask_test_predict)"
   ]
  },
  {
   "cell_type": "markdown",
   "metadata": {
    "id": "QdqptMnkalya"
   },
   "source": [
    "Further, we need to transform the 1D array of colors into a 2D matrix of Hex color using **[numpy.reshape()](https://numpy.org/doc/stable/reference/generated/numpy.reshape.html?utm_medium=Exinfluencer&utm_source=Exinfluencer&utm_content=000026UJ&utm_term=10006555&utm_id=NA-SkillsNetwork-Channel-SkillsNetworkQuickLabsdatascienceinagriculturelanduseclassification28296414-2022-01-01)**.\n"
   ]
  },
  {
   "cell_type": "code",
   "execution_count": null,
   "metadata": {
    "id": "ZIdmdva_alyb"
   },
   "outputs": [],
   "source": [
    "size = mask_test[0][1].size #get original image size\n",
    "print(size)\n",
    "predict_img = np.array(mask_test_predict).reshape((size[1], size[0])) #reshaping array of HEX colour\n",
    "print(predict_img)"
   ]
  },
  {
   "cell_type": "markdown",
   "metadata": {
    "id": "KJbxO_wmalyb"
   },
   "source": [
    "Than we create a 3D image matrix with an RGB colour map using **[colormap.hex2rgb()](https://pythonhosted.org/colormap/references.html?utm_medium=Exinfluencer&utm_source=Exinfluencer&utm_content=000026UJ&utm_term=10006555&utm_id=NA-SkillsNetwork-Channel-SkillsNetworkQuickLabsdatascienceinagriculturelanduseclassification28296414-2022-01-01)**.\n"
   ]
  },
  {
   "cell_type": "code",
   "execution_count": null,
   "metadata": {
    "id": "9sYR4sPHalyc"
   },
   "outputs": [],
   "source": [
    "rgb_size = ##YOUR CODE GOES HERE##\n",
    "print(\"Image size: \", rgb_size)\n",
    "predict_img_rgb = np.zeros(rgb_size)\n",
    "for i, r in enumerate(predict_img):\n",
    "    for j, c in enumerate(r):\n",
    "        predict_img_rgb[i, j, 0], predict_img_rgb[i, j, 1], predict_img_rgb[i, j, 2] = hex2rgb(c)"
   ]
  },
  {
   "cell_type": "markdown",
   "metadata": {
    "id": "v81Z8vZSalyc"
   },
   "source": [
    "<details><summary>Click <b>here</b> for the solution</summary> <code>\n",
    "rgb_size = np.array(mask_test[0][0]).shape\n",
    "print(\"Image size: \", rgb_size)\n",
    "predict_img_rgb = np.zeros(rgb_size)\n",
    "for i, r in enumerate(predict_img):\n",
    "    for j, c in enumerate(r):\n",
    "        predict_img_rgb[i, j, 0], predict_img_rgb[i, j, 1], predict_img_rgb[i, j, 2] = hex2rgb(c)\n",
    "</code></details>\n"
   ]
  },
  {
   "cell_type": "markdown",
   "metadata": {
    "id": "daj6LyYMalyd"
   },
   "source": [
    "Let's compare our mask with the original one.\n"
   ]
  },
  {
   "cell_type": "code",
   "execution_count": null,
   "metadata": {
    "id": "O05qEKZValyd"
   },
   "outputs": [],
   "source": [
    "predict_img_rgb = predict_img_rgb.astype('int')\n",
    "print(\"Model mask\")\n",
    "plt.imshow(predict_img_rgb)\n",
    "plt.show()\n",
    "print(\"Real mask\")\n",
    "plt.imshow(mask_test[0][1])\n",
    "plt.show()"
   ]
  },
  {
   "cell_type": "markdown",
   "metadata": {
    "id": "roIFLZnLalye"
   },
   "source": [
    "You can see that these masks are very similar and you just have to increase the DataSets to improve the accuracy.\n"
   ]
  },
  {
   "cell_type": "markdown",
   "metadata": {
    "id": "myQLYPFKalyf"
   },
   "source": [
    "## Conclusions\n"
   ]
  },
  {
   "cell_type": "markdown",
   "metadata": {
    "id": "EXKlOoIjalyf"
   },
   "source": [
    "In this lab, we have studied how to create an expert system based on classifiers, which allows to obtain the classification of land, based on aero and satellite images. These principles can be used for any type of images and any types of land use.\n",
    "\n",
    "In this lab, we have learned to upload and convert images. We have mastered extracting image colors and building / training / testing sets of classifiers. We have calculated the accuracy and studied how to build our own mask based on a classifier.\n"
   ]
  },
  {
   "cell_type": "markdown",
   "metadata": {
    "id": "VovLfaDqalyg"
   },
   "source": [
    "## Authors\n"
   ]
  },
  {
   "cell_type": "markdown",
   "metadata": {
    "id": "2EaU0edValyg"
   },
   "source": [
    "[Yaroslav Vyklyuk, prof., PhD., DrSc](http://vyklyuk.bukuniver.edu.ua/en/?utm_medium=Exinfluencer&utm_source=Exinfluencer&utm_content=000026UJ&utm_term=10006555&utm_id=NA-SkillsNetwork-Channel-SkillsNetworkQuickLabsdatascienceinagriculturelanduseclassification28296414-2022-01-01)\n"
   ]
  },
  {
   "cell_type": "markdown",
   "metadata": {
    "id": "x_HhJy-Ralyh"
   },
   "source": [
    "Copyright © 2020 IBM Corporation. This notebook and its source code are released under the terms of the [MIT License](https://cognitiveclass.ai/mit-license/?utm_medium=Exinfluencer&utm_source=Exinfluencer&utm_content=000026UJ&utm_term=10006555&utm_id=NA-SkillsNetwork-Channel-SkillsNetworkQuickLabsdatascienceinagriculturelanduseclassification28296414-2022-01-01).\n"
   ]
  }
 ],
 "metadata": {
  "colab": {
   "name": "lab3.ipynb",
   "provenance": [],
   "toc_visible": true
  },
  "kernelspec": {
   "display_name": "Python 3 (ipykernel)",
   "language": "python",
   "name": "python3"
  },
  "language_info": {
   "codemirror_mode": {
    "name": "ipython",
    "version": 3
   },
   "file_extension": ".py",
   "mimetype": "text/x-python",
   "name": "python",
   "nbconvert_exporter": "python",
   "pygments_lexer": "ipython3",
   "version": "3.8.8"
  }
 },
 "nbformat": 4,
 "nbformat_minor": 4
}
